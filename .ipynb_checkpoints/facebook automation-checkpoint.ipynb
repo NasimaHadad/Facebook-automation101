{
 "cells": [
  {
   "cell_type": "code",
   "execution_count": 1,
   "id": "c18b276a",
   "metadata": {},
   "outputs": [],
   "source": [
    "from selenium import webdriver\n",
    "from selenium.webdriver.common.keys import Keys\n",
    "import time"
   ]
  },
  {
   "cell_type": "markdown",
   "id": "243bb827",
   "metadata": {},
   "source": [
    "# Selenium Pro - Facebook-Auto-Poster"
   ]
  },
  {
   "cell_type": "markdown",
   "id": "3ca79a85",
   "metadata": {},
   "source": [
    "## Section 1 : Launch Browser"
   ]
  },
  {
   "cell_type": "code",
   "execution_count": 2,
   "id": "5cd35f43",
   "metadata": {},
   "outputs": [
    {
     "name": "stderr",
     "output_type": "stream",
     "text": [
      "<ipython-input-2-e82fe77895af>:8: DeprecationWarning: use options instead of chrome_options\n",
      "  driver = webdriver.Chrome(chrome_options=chrome_options)\n"
     ]
    }
   ],
   "source": [
    "# Launch automated chrome browser \n",
    "driver = webdriver.Chrome()\n",
    "\n",
    "# Disable notification\n",
    "chrome_options = webdriver.ChromeOptions()\n",
    "prefs = {\"profile.default_content_setting_values.notifications\" : 2}\n",
    "chrome_options.add_experimental_option(\"prefs\",prefs)\n",
    "driver = webdriver.Chrome(chrome_options=chrome_options)\n",
    "\n",
    "# URL Site facebook\n",
    "base_url = 'https://en-gb.facebook.com/'\n",
    "driver.get(base_url)\n",
    "time.sleep(3)\n"
   ]
  },
  {
   "cell_type": "code",
   "execution_count": null,
   "id": "a777ca1f",
   "metadata": {},
   "outputs": [],
   "source": [
    "# Maximaize the browser window\n",
    "driver.maximize_window()"
   ]
  },
  {
   "cell_type": "markdown",
   "id": "b7aa4ca2",
   "metadata": {},
   "source": [
    "### Section 2 : Sign in process"
   ]
  },
  {
   "cell_type": "code",
   "execution_count": null,
   "id": "d9eddda7",
   "metadata": {},
   "outputs": [],
   "source": [
    "# Account login information\n",
    "email='tv.marketing2020@gmail.com'\n",
    "password='ABDELKARIMNASIMA8284@07NA@R@'\n",
    "comment=[\"أكثر توجه فاعلية ومردودية في مجال التسويق الإلكتروني والتجارة الإلكترونية ؟؟ https://www.youtube.com/watch?v=6-RlZkMTWsY&list=PLnMsaTc7T4ZTFpHoV6HvI1hZ1lS4JsEew&index=3?0s\"]\n",
    "keyword= 'الربح من الإنترنت'"
   ]
  },
  {
   "cell_type": "code",
   "execution_count": null,
   "id": "7faf1d6e",
   "metadata": {},
   "outputs": [],
   "source": [
    "# Create Xpath code to Type email\n",
    "# tag = input\n",
    "# atr = aria-labe=\"Email address or phone number\"\n",
    "#//input[@aria-label=\"Email address or phone number\"]\n",
    "###########################################################################\n",
    "# Create Xpath code to Type password\n",
    "# # tag = input\n",
    "# atr = aria-label=\"Password\"\n",
    "#//input[@placeholder=\"Password\"]\n",
    "###########################################################################\n",
    "# Create Xpath code to Type login\n",
    "# # tag = button\n",
    "# atr = name=\"login\"\n",
    "# button = name=\"login\"\n",
    "############################################################################\n",
    "###########################################################################\n",
    "# Create Xpath code comment\n",
    "\n",
    "# tag = span\n",
    "# atr = text()=\"What's on your mind, Imarwa?\"\n",
    "#//span[text()=\"What's on your mind, Imarwa?\"]"
   ]
  },
  {
   "cell_type": "code",
   "execution_count": null,
   "id": "985d4b78",
   "metadata": {},
   "outputs": [],
   "source": [
    "# Enter EMAIL\n",
    "# Locate element\n",
    "UserElement = driver.find_element_by_xpath('//input[@aria-label=\"Email address or phone number\"]')\n",
    "UserElement.send_keys(email)\n",
    "\n"
   ]
  },
  {
   "cell_type": "code",
   "execution_count": null,
   "id": "8d1e9363",
   "metadata": {},
   "outputs": [],
   "source": [
    "# Enter PASSWORD\n",
    "PasswordElement = driver.find_element_by_xpath('//input[@placeholder=\"Password\"]')\n",
    "PasswordElement.send_keys(password)\n",
    "time.sleep(3)"
   ]
  },
  {
   "cell_type": "code",
   "execution_count": null,
   "id": "6050681c",
   "metadata": {},
   "outputs": [],
   "source": [
    "# TYPE CODE XPATH BUTTON LOGIN\n",
    "ButtonElement = driver.find_element_by_name(\"login\")\n",
    "ButtonElement.click()\n",
    "time.sleep(3)"
   ]
  },
  {
   "cell_type": "code",
   "execution_count": null,
   "id": "4e3f283c",
   "metadata": {},
   "outputs": [],
   "source": [
    "driver.execute_script(\"window.scrollBy(0,500)\")"
   ]
  },
  {
   "cell_type": "code",
   "execution_count": null,
   "id": "dbfb1388",
   "metadata": {},
   "outputs": [],
   "source": [
    "# //*[contains(text(),\"What's on your mind\")]\n",
    "ButtonElement = driver.find_element_by_xpath(\"\"\"//*[contains(text(),\"What's on your mind\")]\"\"\")\n",
    "ButtonElement.click()\n"
   ]
  },
  {
   "cell_type": "code",
   "execution_count": null,
   "id": "8d861fc4",
   "metadata": {},
   "outputs": [],
   "source": [
    "# //div[contains(text(),\"What's on your mind\")]\n",
    "PostElement = driver.find_element_by_xpath('//*[@class=\"notranslate _5rpu\"]')\n",
    "PostElement.click()\n",
    "PostElement.send_keys(comment)"
   ]
  },
  {
   "cell_type": "markdown",
   "id": "3b769e24",
   "metadata": {},
   "source": [
    "###### //*[text()='Post']\n",
    "PostButton = driver.find_element_by_xpath(\"//*[text()='Post']\")\n",
    "PostButton.click()"
   ]
  },
  {
   "cell_type": "code",
   "execution_count": null,
   "id": "c9c6796a",
   "metadata": {},
   "outputs": [],
   "source": [
    "postbutton = driver.find_element_by_xpath('//div[@class=\"rq0escxv l9j0dhe7 du4w35lb j83agx80 pfnyh3mw taijpn5t bp9cbjyn owycx6da btwxx1t3 kt9q3ron ak7q8e6j isp2s0ed ri5dt5u2 rt8b4zig n8ej3o3l agehan2d sk4xxmp2 d1544ag0 tw6a2znq s1i5eluu tv7at329\"]')\n",
    "postbutton.click()"
   ]
  },
  {
   "cell_type": "code",
   "execution_count": null,
   "id": "2695ae30",
   "metadata": {},
   "outputs": [],
   "source": [
    "search = driver.find_element_by_xpath('//input[@type=\"search\"]')\n",
    "search.click()"
   ]
  },
  {
   "cell_type": "code",
   "execution_count": null,
   "id": "e247d67a",
   "metadata": {},
   "outputs": [],
   "source": [
    "keywordgroups = driver.find_element_by_xpath('//input[@type=\"search\"]')\n",
    "keywordgroups.send_keys(keyword)"
   ]
  },
  {
   "cell_type": "code",
   "execution_count": null,
   "id": "baee1f48",
   "metadata": {},
   "outputs": [],
   "source": [
    "buttonsearch = driver.find_element_by_xpath('//div[@class=\"thwo4zme taijpn5t tv7at329 j83agx80 k77z8yql qs9ysxi8 arfg74bv n00je7tq is6700om bp9cbjyn\"]')\n",
    "buttonsearch.click()\n",
    "time.sleep(3)"
   ]
  },
  {
   "cell_type": "code",
   "execution_count": 63,
   "id": "e7206991",
   "metadata": {},
   "outputs": [],
   "source": [
    "driver.execute_script(r'window.open();')"
   ]
  },
  {
   "cell_type": "code",
   "execution_count": 64,
   "id": "6fe52ef7",
   "metadata": {},
   "outputs": [
    {
     "name": "stdout",
     "output_type": "stream",
     "text": [
      "https://www.facebook.com/search/groups/?q=الربح%20من%20فيس%20بوك\n"
     ]
    }
   ],
   "source": [
    "# URL Site facebook\n",
    "keyword_groups = 'الربح%20من%20فيس%20بوك'\n",
    "base_url_groups = 'https://www.facebook.com/search/groups/?q=%s'%  keyword_groups\n",
    "print(base_url_groups)"
   ]
  },
  {
   "cell_type": "code",
   "execution_count": 66,
   "id": "f89f4350",
   "metadata": {},
   "outputs": [],
   "source": [
    "# switch focus to tab[1]\n",
    "tab_list = driver.window_handles\n",
    "driver.switch_to.window(tab_list[1])"
   ]
  },
  {
   "cell_type": "code",
   "execution_count": 67,
   "id": "203a3af1",
   "metadata": {},
   "outputs": [],
   "source": [
    "driver.get(base_url_groups)"
   ]
  },
  {
   "cell_type": "code",
   "execution_count": 69,
   "id": "3889d0c9",
   "metadata": {},
   "outputs": [],
   "source": [
    "groups = driver.find_element_by_xpath('//span[contains(text(),\"Groups\")]')\n",
    "groups.click()"
   ]
  },
  {
   "cell_type": "code",
   "execution_count": 70,
   "id": "25743ffa",
   "metadata": {},
   "outputs": [
    {
     "name": "stdout",
     "output_type": "stream",
     "text": [
      "End of Results !!\n"
     ]
    }
   ],
   "source": [
    "# Create a list from a single elemment\n",
    "end_of_results = driver.find_elements_by_xpath('//*[contains(text(),\"End of Results\")]')\n",
    "\n",
    "# print(End_of_Results)\n",
    "\n",
    "# Create a Conditional loop based on len(End_of_Results) - the lenght of the list\n",
    "while len(end_of_results) == 0:\n",
    "    driver.execute_script(\"window.scrollBy(0,3000)\")\n",
    "    time.sleep(1)\n",
    "    end_of_results = driver.find_elements_by_xpath('//*[contains(text(),\"End of Results\")]')\n",
    "\n",
    "    \n",
    "print(\"End of Results !!\")    \n",
    "    "
   ]
  },
  {
   "cell_type": "code",
   "execution_count": 71,
   "id": "31d1a769",
   "metadata": {},
   "outputs": [
    {
     "name": "stdout",
     "output_type": "stream",
     "text": [
      "68\n",
      " \n",
      "https://www.facebook.com/groups/5540470752631520/\n",
      "https://www.facebook.com/groups/843789039574988/\n",
      "https://www.facebook.com/groups/868203077058116/\n",
      "https://www.facebook.com/groups/fydtuk2/\n",
      "https://www.facebook.com/groups/nsfwatan/\n",
      "https://www.facebook.com/groups/956124911514879/\n",
      "https://www.facebook.com/groups/283915785700889/\n",
      "https://www.facebook.com/groups/2007879789367232/\n",
      "https://www.facebook.com/groups/576236229677764/\n",
      "https://www.facebook.com/groups/514367553208886/\n",
      "https://www.facebook.com/groups/921164268668330/\n",
      "https://www.facebook.com/groups/1664588907101421/\n",
      "https://www.facebook.com/groups/208157696634693/\n",
      "https://www.facebook.com/groups/3611550742190412/\n",
      "https://www.facebook.com/groups/4949307443/\n",
      "https://www.facebook.com/groups/2018121625002312/\n",
      "https://www.facebook.com/groups/504321632942431/\n",
      "https://www.facebook.com/groups/486452621386770/\n",
      "https://www.facebook.com/groups/1608386996047756/\n",
      "https://www.facebook.com/groups/879194502121828/\n",
      "https://www.facebook.com/groups/396969044831740/\n",
      "https://www.facebook.com/groups/1840054839641917/\n",
      "https://www.facebook.com/groups/549693028995090/\n",
      "https://www.facebook.com/groups/599805053968721/\n",
      "https://www.facebook.com/groups/154538551339507/\n",
      "https://www.facebook.com/groups/httpbit.lyyoutubechannel2021/\n",
      "https://www.facebook.com/groups/1892796524219714/\n",
      "https://www.facebook.com/groups/155690269699475/\n",
      "https://www.facebook.com/groups/4100090813406950/\n",
      "https://www.facebook.com/groups/1471940929559622/\n",
      "https://www.facebook.com/groups/332886293439233/\n",
      "https://www.facebook.com/groups/359201219119837/\n",
      "https://www.facebook.com/groups/Profit.Money/\n",
      "https://www.facebook.com/groups/679292332201545/\n",
      "https://www.facebook.com/groups/377837988919510/\n",
      "https://www.facebook.com/groups/594176190747356/\n",
      "https://www.facebook.com/groups/322858085717948/\n",
      "https://www.facebook.com/groups/291040484346646/\n",
      "https://www.facebook.com/groups/618260081650633/\n",
      "https://www.facebook.com/groups/1002606083102577/\n",
      "https://www.facebook.com/groups/1468544923191227/\n",
      "https://www.facebook.com/groups/281137133288499/\n",
      "https://www.facebook.com/groups/244620592265497/\n",
      "https://www.facebook.com/groups/221269228482531/\n",
      "https://www.facebook.com/groups/179807242101176/\n",
      "https://www.facebook.com/groups/1234492050331443/\n",
      "https://www.facebook.com/groups/177838502278063/\n",
      "https://www.facebook.com/groups/1399362120380130/\n",
      "https://www.facebook.com/groups/137635779688525/\n",
      "https://www.facebook.com/groups/742405859131803/\n",
      "https://www.facebook.com/groups/498897427707595/\n",
      "https://www.facebook.com/groups/170488539764146/\n",
      "https://www.facebook.com/groups/727565447292679/\n",
      "https://www.facebook.com/groups/864196106969020/\n",
      "https://www.facebook.com/groups/1451154821659896/\n",
      "https://www.facebook.com/groups/244960538916413/\n",
      "https://www.facebook.com/groups/nadmshakir/\n",
      "https://www.facebook.com/groups/136247366467035/\n",
      "https://www.facebook.com/groups/404461622928584/\n",
      "https://www.facebook.com/groups/275890379810599/\n",
      "https://www.facebook.com/groups/220889386625117/\n",
      "https://www.facebook.com/groups/813437405352575/\n",
      "https://www.facebook.com/groups/687099504738631/\n",
      "https://www.facebook.com/groups/revolution.connection/\n",
      "https://www.facebook.com/groups/457389215623497/\n",
      "https://www.facebook.com/groups/284249596264358/\n",
      "https://www.facebook.com/groups/1186919311782120/\n",
      "https://www.facebook.com/groups/1513849158900124/\n"
     ]
    }
   ],
   "source": [
    "# Scrape videos links\n",
    "links = driver.find_elements_by_xpath('//span[@class=\"nc684nl6\"]/a')\n",
    "\n",
    "links_list = []\n",
    "for link in links:\n",
    "    links_list.append(link.get_attribute('href'))\n",
    " \n",
    "# titles_list = list(filter(None, titles_list))\n",
    "\n",
    "print(len(links_list))\n",
    "print(\" \")\n",
    "\n",
    "for link in links_list:\n",
    "    print(link)"
   ]
  },
  {
   "cell_type": "code",
   "execution_count": 88,
   "id": "1c06e1f6",
   "metadata": {},
   "outputs": [],
   "source": [
    "# switch focus to tab[1]\n",
    "tab_list = driver.window_handles\n",
    "driver.switch_to.window(tab_list[2])"
   ]
  },
  {
   "cell_type": "code",
   "execution_count": 89,
   "id": "5f9629f6",
   "metadata": {},
   "outputs": [
    {
     "ename": "KeyboardInterrupt",
     "evalue": "",
     "output_type": "error",
     "traceback": [
      "\u001b[1;31m---------------------------------------------------------------------------\u001b[0m",
      "\u001b[1;31mKeyboardInterrupt\u001b[0m                         Traceback (most recent call last)",
      "\u001b[1;32m<ipython-input-89-e3702fb04ec5>\u001b[0m in \u001b[0;36m<module>\u001b[1;34m\u001b[0m\n\u001b[0;32m      1\u001b[0m \u001b[1;32mfor\u001b[0m \u001b[0mlink\u001b[0m \u001b[1;32min\u001b[0m \u001b[0mlinks_list\u001b[0m\u001b[1;33m:\u001b[0m\u001b[1;33m\u001b[0m\u001b[1;33m\u001b[0m\u001b[0m\n\u001b[0;32m      2\u001b[0m     \u001b[0mdriver\u001b[0m\u001b[1;33m.\u001b[0m\u001b[0mget\u001b[0m\u001b[1;33m(\u001b[0m\u001b[0mlink\u001b[0m\u001b[1;33m)\u001b[0m\u001b[1;33m\u001b[0m\u001b[1;33m\u001b[0m\u001b[0m\n\u001b[1;32m----> 3\u001b[1;33m     \u001b[0mtime\u001b[0m\u001b[1;33m.\u001b[0m\u001b[0msleep\u001b[0m\u001b[1;33m(\u001b[0m\u001b[1;36m7\u001b[0m\u001b[1;33m)\u001b[0m\u001b[1;33m\u001b[0m\u001b[1;33m\u001b[0m\u001b[0m\n\u001b[0m\u001b[0;32m      4\u001b[0m     \u001b[0mjoin_group\u001b[0m \u001b[1;33m=\u001b[0m \u001b[0mdriver\u001b[0m\u001b[1;33m.\u001b[0m\u001b[0mfind_element_by_xpath\u001b[0m\u001b[1;33m(\u001b[0m\u001b[1;34m'//div[@class=\"rq0escxv l9j0dhe7 du4w35lb j83agx80 cbu4d94t pfnyh3mw d2edcug0 ri2l8tne ph5uu5jm b3onmgus e5nlhep0 ecm0bbzt gloz99to r516eku6 k83vx86k\"]'\u001b[0m\u001b[1;33m)\u001b[0m\u001b[1;33m\u001b[0m\u001b[1;33m\u001b[0m\u001b[0m\n\u001b[0;32m      5\u001b[0m     \u001b[0mjoin_group\u001b[0m\u001b[1;33m.\u001b[0m\u001b[0mclick\u001b[0m\u001b[1;33m(\u001b[0m\u001b[1;33m)\u001b[0m\u001b[1;33m\u001b[0m\u001b[1;33m\u001b[0m\u001b[0m\n",
      "\u001b[1;31mKeyboardInterrupt\u001b[0m: "
     ]
    }
   ],
   "source": [
    "for link in links_list:\n",
    "    driver.get(link)\n",
    "    time.sleep(7)\n",
    "    join_group = driver.find_element_by_xpath('//div[@class=\"rq0escxv l9j0dhe7 du4w35lb j83agx80 cbu4d94t pfnyh3mw d2edcug0 ri2l8tne ph5uu5jm b3onmgus e5nlhep0 ecm0bbzt gloz99to r516eku6 k83vx86k\"]')\n",
    "    join_group.click()"
   ]
  },
  {
   "cell_type": "code",
   "execution_count": 54,
   "id": "9ff0cdd2",
   "metadata": {},
   "outputs": [],
   "source": []
  }
 ],
 "metadata": {
  "interpreter": {
   "hash": "b3ba2566441a7c06988d0923437866b63cedc61552a5af99d1f4fb67d367b25f"
  },
  "kernelspec": {
   "display_name": "Python 3",
   "language": "python",
   "name": "python3"
  },
  "language_info": {
   "codemirror_mode": {
    "name": "ipython",
    "version": 3
   },
   "file_extension": ".py",
   "mimetype": "text/x-python",
   "name": "python",
   "nbconvert_exporter": "python",
   "pygments_lexer": "ipython3",
   "version": "3.8.8"
  }
 },
 "nbformat": 4,
 "nbformat_minor": 5
}
