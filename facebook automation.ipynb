{
 "cells": [
  {
   "cell_type": "code",
   "execution_count": 1,
   "source": [
    "from selenium import webdriver\r\n",
    "from selenium.webdriver.common.keys import Keys\r\n",
    "import time"
   ],
   "outputs": [],
   "metadata": {}
  },
  {
   "cell_type": "markdown",
   "source": [
    "# Selenium Pro - Facebook-Auto-Poster"
   ],
   "metadata": {}
  },
  {
   "cell_type": "markdown",
   "source": [
    "## Section 1 : Launch Browser"
   ],
   "metadata": {}
  },
  {
   "cell_type": "code",
   "execution_count": 8,
   "source": [
    "# Launch automated chrome browser \r\n",
    "driver = webdriver.Chrome()\r\n",
    "\r\n",
    "# Disable notification\r\n",
    "chrome_options = webdriver.ChromeOptions()\r\n",
    "prefs = {\"profile.default_content_setting_values.notifications\" : 2}\r\n",
    "chrome_options.add_experimental_option(\"prefs\",prefs)\r\n",
    "driver = webdriver.Chrome(chrome_options=chrome_options)\r\n",
    "\r\n",
    "# URL Site facebook\r\n",
    "base_url = 'https://en-gb.facebook.com/'\r\n",
    "driver.get(base_url)\r\n",
    "time.sleep(3)\r\n"
   ],
   "outputs": [
    {
     "output_type": "stream",
     "name": "stderr",
     "text": [
      "<ipython-input-8-fa9566b91066>:8: DeprecationWarning: use options instead of chrome_options\n",
      "  driver = webdriver.Chrome(chrome_options=chrome_options)\n"
     ]
    }
   ],
   "metadata": {}
  },
  {
   "cell_type": "code",
   "execution_count": null,
   "source": [
    "##  'HELLOW GITHUB' ##"
   ],
   "outputs": [],
   "metadata": {}
  },
  {
   "cell_type": "code",
   "execution_count": 9,
   "source": [
    "# Maximaize the browser window\r\n",
    "driver.maximize_window()"
   ],
   "outputs": [],
   "metadata": {}
  },
  {
   "cell_type": "markdown",
   "source": [
    "### Section 2 : Sign in process"
   ],
   "metadata": {}
  },
  {
   "cell_type": "code",
   "execution_count": 10,
   "source": [
    "# Account login information\r\n",
    "email='tv.marketing2020@gmail.com'\r\n",
    "password='ABDELKARIMNASIMA8284@07NA@R@'\r\n",
    "comment=[\"أكثر توجه فاعلية ومردودية في مجال التسويق الإلكتروني والتجارة الإلكترونية ؟؟ https://www.youtube.com/watch?v=6-RlZkMTWsY&list=PLnMsaTc7T4ZTFpHoV6HvI1hZ1lS4JsEew&index=3?0s\"]\r\n",
    "keyword= 'الربح من الإنترنت'"
   ],
   "outputs": [],
   "metadata": {}
  },
  {
   "cell_type": "code",
   "execution_count": null,
   "source": [
    "# Create Xpath code to Type email\r\n",
    "# tag = input\r\n",
    "# atr = aria-labe=\"Email address or phone number\"\r\n",
    "#//input[@aria-label=\"Email address or phone number\"]\r\n",
    "###########################################################################\r\n",
    "# Create Xpath code to Type password\r\n",
    "# # tag = input\r\n",
    "# atr = aria-label=\"Password\"\r\n",
    "#//input[@placeholder=\"Password\"]\r\n",
    "###########################################################################\r\n",
    "# Create Xpath code to Type login\r\n",
    "# # tag = button\r\n",
    "# atr = name=\"login\"\r\n",
    "# button = name=\"login\"\r\n",
    "############################################################################\r\n",
    "###########################################################################\r\n",
    "# Create Xpath code comment\r\n",
    "\r\n",
    "# tag = span\r\n",
    "# atr = text()=\"What's on your mind, Imarwa?\"\r\n",
    "#//span[text()=\"What's on your mind, Imarwa?\"]"
   ],
   "outputs": [],
   "metadata": {}
  },
  {
   "cell_type": "code",
   "execution_count": 11,
   "source": [
    "# Enter EMAIL\r\n",
    "# Locate element\r\n",
    "UserElement = driver.find_element_by_xpath('//input[@aria-label=\"Email address or phone number\"]')\r\n",
    "UserElement.send_keys(email)\r\n",
    "\r\n"
   ],
   "outputs": [],
   "metadata": {}
  },
  {
   "cell_type": "code",
   "execution_count": 12,
   "source": [
    "# Enter PASSWORD\r\n",
    "PasswordElement = driver.find_element_by_xpath('//input[@placeholder=\"Password\"]')\r\n",
    "PasswordElement.send_keys(password)\r\n",
    "time.sleep(3)"
   ],
   "outputs": [],
   "metadata": {}
  },
  {
   "cell_type": "code",
   "execution_count": 13,
   "source": [
    "# TYPE CODE XPATH BUTTON LOGIN\r\n",
    "ButtonElement = driver.find_element_by_name(\"login\")\r\n",
    "ButtonElement.click()\r\n",
    "time.sleep(3)"
   ],
   "outputs": [],
   "metadata": {}
  },
  {
   "cell_type": "code",
   "execution_count": null,
   "source": [
    "#driver.execute_script(\"window.scrollBy(0,500)\")"
   ],
   "outputs": [],
   "metadata": {}
  },
  {
   "cell_type": "code",
   "execution_count": 14,
   "source": [
    "# //*[contains(text(),\"What's on your mind\")]\r\n",
    "ButtonElement = driver.find_element_by_xpath(\"\"\"//*[contains(text(),\"What's on your mind\")]\"\"\")\r\n",
    "ButtonElement.click()\r\n"
   ],
   "outputs": [],
   "metadata": {}
  },
  {
   "cell_type": "code",
   "execution_count": 15,
   "source": [
    "# //div[contains(text(),\"What's on your mind\")]\r\n",
    "PostElement = driver.find_element_by_xpath('//*[@class=\"notranslate _5rpu\"]')\r\n",
    "PostElement.click()\r\n",
    "PostElement.send_keys(comment)"
   ],
   "outputs": [],
   "metadata": {}
  },
  {
   "cell_type": "markdown",
   "source": [
    "###### //*[text()='Post']\n",
    "PostButton = driver.find_element_by_xpath(\"//*[text()='Post']\")\n",
    "PostButton.click()"
   ],
   "metadata": {}
  },
  {
   "cell_type": "code",
   "execution_count": 16,
   "source": [
    "postbutton = driver.find_element_by_xpath('//div[@class=\"rq0escxv l9j0dhe7 du4w35lb j83agx80 pfnyh3mw taijpn5t bp9cbjyn owycx6da btwxx1t3 kt9q3ron ak7q8e6j isp2s0ed ri5dt5u2 rt8b4zig n8ej3o3l agehan2d sk4xxmp2 d1544ag0 tw6a2znq s1i5eluu tv7at329\"]')\r\n",
    "postbutton.click()"
   ],
   "outputs": [],
   "metadata": {}
  },
  {
   "cell_type": "code",
   "execution_count": 18,
   "source": [
    "# Create a list from keywords_list.txt\r\n",
    "my_file = open(\"keywords_list.txt\", \"r\")\r\n",
    "content_list = my_file.readlines()\r\n",
    "\r\n",
    "print(content_list)"
   ],
   "outputs": [
    {
     "output_type": "stream",
     "name": "stdout",
     "text": [
      "['الربح من الإنترنت\\n', 'الربح من تويتر\\n', 'الربح من يوتيوب\\n', 'الربح من أدسنس\\n', 'الربح من فيس بوك\\n', 'العمل من المنزل\\n', 'الربح من الإعلانات']\n"
     ]
    }
   ],
   "metadata": {}
  },
  {
   "cell_type": "code",
   "execution_count": 19,
   "source": [
    "file_list = []\r\n",
    "for element in content_list :\r\n",
    "    element = element.strip() #Clean elements from \"\\n\"\r\n",
    "    file_list.append(element)\r\n",
    "\r\n",
    "print(file_list)"
   ],
   "outputs": [
    {
     "output_type": "stream",
     "name": "stdout",
     "text": [
      "['الربح من الإنترنت', 'الربح من تويتر', 'الربح من يوتيوب', 'الربح من أدسنس', 'الربح من فيس بوك', 'العمل من المنزل', 'الربح من الإعلانات']\n"
     ]
    }
   ],
   "metadata": {}
  },
  {
   "cell_type": "code",
   "execution_count": 39,
   "source": [
    "for element in file_list :\r\n",
    "    element = element.replace(' ', '%20')\r\n",
    "    links_groups = 'https://www.facebook.com/search/groups/?q=%s'%  element\r\n",
    "    print(links_groups)"
   ],
   "outputs": [
    {
     "output_type": "stream",
     "name": "stdout",
     "text": [
      "https://www.facebook.com/search/groups/?q=الربح%20من%20الإنترنت\n",
      "https://www.facebook.com/search/groups/?q=الربح%20من%20تويتر\n",
      "https://www.facebook.com/search/groups/?q=الربح%20من%20يوتيوب\n",
      "https://www.facebook.com/search/groups/?q=الربح%20من%20أدسنس\n",
      "https://www.facebook.com/search/groups/?q=الربح%20من%20فيس%20بوك\n",
      "https://www.facebook.com/search/groups/?q=العمل%20من%20المنزل\n",
      "https://www.facebook.com/search/groups/?q=الربح%20من%20الإعلانات\n"
     ]
    }
   ],
   "metadata": {}
  },
  {
   "cell_type": "code",
   "execution_count": 43,
   "source": [
    "for link in links_groups:\r\n",
    "    driver.get(link)\r\n"
   ],
   "outputs": [
    {
     "output_type": "error",
     "ename": "NoSuchWindowException",
     "evalue": "Message: no such window: window was already closed\n  (Session info: chrome=92.0.4515.159)\n",
     "traceback": [
      "\u001b[1;31m---------------------------------------------------------------------------\u001b[0m",
      "\u001b[1;31mNoSuchWindowException\u001b[0m                     Traceback (most recent call last)",
      "\u001b[1;32m<ipython-input-43-3eb6a169c5f1>\u001b[0m in \u001b[0;36m<module>\u001b[1;34m\u001b[0m\n\u001b[0;32m      1\u001b[0m \u001b[1;32mfor\u001b[0m \u001b[0mlink\u001b[0m \u001b[1;32min\u001b[0m \u001b[0mlinks_groups\u001b[0m\u001b[1;33m:\u001b[0m\u001b[1;33m\u001b[0m\u001b[1;33m\u001b[0m\u001b[0m\n\u001b[1;32m----> 2\u001b[1;33m     \u001b[0mdriver\u001b[0m\u001b[1;33m.\u001b[0m\u001b[0mget\u001b[0m\u001b[1;33m(\u001b[0m\u001b[0mlink\u001b[0m\u001b[1;33m)\u001b[0m\u001b[1;33m\u001b[0m\u001b[1;33m\u001b[0m\u001b[0m\n\u001b[0m",
      "\u001b[1;32mC:\\ProgramData\\Anaconda3\\lib\\site-packages\\selenium\\webdriver\\remote\\webdriver.py\u001b[0m in \u001b[0;36mget\u001b[1;34m(self, url)\u001b[0m\n\u001b[0;32m    331\u001b[0m         \u001b[0mLoads\u001b[0m \u001b[0ma\u001b[0m \u001b[0mweb\u001b[0m \u001b[0mpage\u001b[0m \u001b[1;32min\u001b[0m \u001b[0mthe\u001b[0m \u001b[0mcurrent\u001b[0m \u001b[0mbrowser\u001b[0m \u001b[0msession\u001b[0m\u001b[1;33m.\u001b[0m\u001b[1;33m\u001b[0m\u001b[1;33m\u001b[0m\u001b[0m\n\u001b[0;32m    332\u001b[0m         \"\"\"\n\u001b[1;32m--> 333\u001b[1;33m         \u001b[0mself\u001b[0m\u001b[1;33m.\u001b[0m\u001b[0mexecute\u001b[0m\u001b[1;33m(\u001b[0m\u001b[0mCommand\u001b[0m\u001b[1;33m.\u001b[0m\u001b[0mGET\u001b[0m\u001b[1;33m,\u001b[0m \u001b[1;33m{\u001b[0m\u001b[1;34m'url'\u001b[0m\u001b[1;33m:\u001b[0m \u001b[0murl\u001b[0m\u001b[1;33m}\u001b[0m\u001b[1;33m)\u001b[0m\u001b[1;33m\u001b[0m\u001b[1;33m\u001b[0m\u001b[0m\n\u001b[0m\u001b[0;32m    334\u001b[0m \u001b[1;33m\u001b[0m\u001b[0m\n\u001b[0;32m    335\u001b[0m     \u001b[1;33m@\u001b[0m\u001b[0mproperty\u001b[0m\u001b[1;33m\u001b[0m\u001b[1;33m\u001b[0m\u001b[0m\n",
      "\u001b[1;32mC:\\ProgramData\\Anaconda3\\lib\\site-packages\\selenium\\webdriver\\remote\\webdriver.py\u001b[0m in \u001b[0;36mexecute\u001b[1;34m(self, driver_command, params)\u001b[0m\n\u001b[0;32m    319\u001b[0m         \u001b[0mresponse\u001b[0m \u001b[1;33m=\u001b[0m \u001b[0mself\u001b[0m\u001b[1;33m.\u001b[0m\u001b[0mcommand_executor\u001b[0m\u001b[1;33m.\u001b[0m\u001b[0mexecute\u001b[0m\u001b[1;33m(\u001b[0m\u001b[0mdriver_command\u001b[0m\u001b[1;33m,\u001b[0m \u001b[0mparams\u001b[0m\u001b[1;33m)\u001b[0m\u001b[1;33m\u001b[0m\u001b[1;33m\u001b[0m\u001b[0m\n\u001b[0;32m    320\u001b[0m         \u001b[1;32mif\u001b[0m \u001b[0mresponse\u001b[0m\u001b[1;33m:\u001b[0m\u001b[1;33m\u001b[0m\u001b[1;33m\u001b[0m\u001b[0m\n\u001b[1;32m--> 321\u001b[1;33m             \u001b[0mself\u001b[0m\u001b[1;33m.\u001b[0m\u001b[0merror_handler\u001b[0m\u001b[1;33m.\u001b[0m\u001b[0mcheck_response\u001b[0m\u001b[1;33m(\u001b[0m\u001b[0mresponse\u001b[0m\u001b[1;33m)\u001b[0m\u001b[1;33m\u001b[0m\u001b[1;33m\u001b[0m\u001b[0m\n\u001b[0m\u001b[0;32m    322\u001b[0m             response['value'] = self._unwrap_value(\n\u001b[0;32m    323\u001b[0m                 response.get('value', None))\n",
      "\u001b[1;32mC:\\ProgramData\\Anaconda3\\lib\\site-packages\\selenium\\webdriver\\remote\\errorhandler.py\u001b[0m in \u001b[0;36mcheck_response\u001b[1;34m(self, response)\u001b[0m\n\u001b[0;32m    240\u001b[0m                 \u001b[0malert_text\u001b[0m \u001b[1;33m=\u001b[0m \u001b[0mvalue\u001b[0m\u001b[1;33m[\u001b[0m\u001b[1;34m'alert'\u001b[0m\u001b[1;33m]\u001b[0m\u001b[1;33m.\u001b[0m\u001b[0mget\u001b[0m\u001b[1;33m(\u001b[0m\u001b[1;34m'text'\u001b[0m\u001b[1;33m)\u001b[0m\u001b[1;33m\u001b[0m\u001b[1;33m\u001b[0m\u001b[0m\n\u001b[0;32m    241\u001b[0m             \u001b[1;32mraise\u001b[0m \u001b[0mexception_class\u001b[0m\u001b[1;33m(\u001b[0m\u001b[0mmessage\u001b[0m\u001b[1;33m,\u001b[0m \u001b[0mscreen\u001b[0m\u001b[1;33m,\u001b[0m \u001b[0mstacktrace\u001b[0m\u001b[1;33m,\u001b[0m \u001b[0malert_text\u001b[0m\u001b[1;33m)\u001b[0m\u001b[1;33m\u001b[0m\u001b[1;33m\u001b[0m\u001b[0m\n\u001b[1;32m--> 242\u001b[1;33m         \u001b[1;32mraise\u001b[0m \u001b[0mexception_class\u001b[0m\u001b[1;33m(\u001b[0m\u001b[0mmessage\u001b[0m\u001b[1;33m,\u001b[0m \u001b[0mscreen\u001b[0m\u001b[1;33m,\u001b[0m \u001b[0mstacktrace\u001b[0m\u001b[1;33m)\u001b[0m\u001b[1;33m\u001b[0m\u001b[1;33m\u001b[0m\u001b[0m\n\u001b[0m\u001b[0;32m    243\u001b[0m \u001b[1;33m\u001b[0m\u001b[0m\n\u001b[0;32m    244\u001b[0m     \u001b[1;32mdef\u001b[0m \u001b[0m_value_or_default\u001b[0m\u001b[1;33m(\u001b[0m\u001b[0mself\u001b[0m\u001b[1;33m,\u001b[0m \u001b[0mobj\u001b[0m\u001b[1;33m,\u001b[0m \u001b[0mkey\u001b[0m\u001b[1;33m,\u001b[0m \u001b[0mdefault\u001b[0m\u001b[1;33m)\u001b[0m\u001b[1;33m:\u001b[0m\u001b[1;33m\u001b[0m\u001b[1;33m\u001b[0m\u001b[0m\n",
      "\u001b[1;31mNoSuchWindowException\u001b[0m: Message: no such window: window was already closed\n  (Session info: chrome=92.0.4515.159)\n"
     ]
    }
   ],
   "metadata": {}
  },
  {
   "cell_type": "code",
   "execution_count": 44,
   "source": [
    "driver.execute_script(r'window.open();')"
   ],
   "outputs": [
    {
     "output_type": "error",
     "ename": "NoSuchWindowException",
     "evalue": "Message: no such window: window was already closed\n  (Session info: chrome=92.0.4515.159)\n",
     "traceback": [
      "\u001b[1;31m---------------------------------------------------------------------------\u001b[0m",
      "\u001b[1;31mNoSuchWindowException\u001b[0m                     Traceback (most recent call last)",
      "\u001b[1;32m<ipython-input-44-4adaaa727dd0>\u001b[0m in \u001b[0;36m<module>\u001b[1;34m\u001b[0m\n\u001b[1;32m----> 1\u001b[1;33m \u001b[0mdriver\u001b[0m\u001b[1;33m.\u001b[0m\u001b[0mexecute_script\u001b[0m\u001b[1;33m(\u001b[0m\u001b[1;34mr'window.open();'\u001b[0m\u001b[1;33m)\u001b[0m\u001b[1;33m\u001b[0m\u001b[1;33m\u001b[0m\u001b[0m\n\u001b[0m",
      "\u001b[1;32mC:\\ProgramData\\Anaconda3\\lib\\site-packages\\selenium\\webdriver\\remote\\webdriver.py\u001b[0m in \u001b[0;36mexecute_script\u001b[1;34m(self, script, *args)\u001b[0m\n\u001b[0;32m    632\u001b[0m             \u001b[0mcommand\u001b[0m \u001b[1;33m=\u001b[0m \u001b[0mCommand\u001b[0m\u001b[1;33m.\u001b[0m\u001b[0mEXECUTE_SCRIPT\u001b[0m\u001b[1;33m\u001b[0m\u001b[1;33m\u001b[0m\u001b[0m\n\u001b[0;32m    633\u001b[0m \u001b[1;33m\u001b[0m\u001b[0m\n\u001b[1;32m--> 634\u001b[1;33m         return self.execute(command, {\n\u001b[0m\u001b[0;32m    635\u001b[0m             \u001b[1;34m'script'\u001b[0m\u001b[1;33m:\u001b[0m \u001b[0mscript\u001b[0m\u001b[1;33m,\u001b[0m\u001b[1;33m\u001b[0m\u001b[1;33m\u001b[0m\u001b[0m\n\u001b[0;32m    636\u001b[0m             'args': converted_args})['value']\n",
      "\u001b[1;32mC:\\ProgramData\\Anaconda3\\lib\\site-packages\\selenium\\webdriver\\remote\\webdriver.py\u001b[0m in \u001b[0;36mexecute\u001b[1;34m(self, driver_command, params)\u001b[0m\n\u001b[0;32m    319\u001b[0m         \u001b[0mresponse\u001b[0m \u001b[1;33m=\u001b[0m \u001b[0mself\u001b[0m\u001b[1;33m.\u001b[0m\u001b[0mcommand_executor\u001b[0m\u001b[1;33m.\u001b[0m\u001b[0mexecute\u001b[0m\u001b[1;33m(\u001b[0m\u001b[0mdriver_command\u001b[0m\u001b[1;33m,\u001b[0m \u001b[0mparams\u001b[0m\u001b[1;33m)\u001b[0m\u001b[1;33m\u001b[0m\u001b[1;33m\u001b[0m\u001b[0m\n\u001b[0;32m    320\u001b[0m         \u001b[1;32mif\u001b[0m \u001b[0mresponse\u001b[0m\u001b[1;33m:\u001b[0m\u001b[1;33m\u001b[0m\u001b[1;33m\u001b[0m\u001b[0m\n\u001b[1;32m--> 321\u001b[1;33m             \u001b[0mself\u001b[0m\u001b[1;33m.\u001b[0m\u001b[0merror_handler\u001b[0m\u001b[1;33m.\u001b[0m\u001b[0mcheck_response\u001b[0m\u001b[1;33m(\u001b[0m\u001b[0mresponse\u001b[0m\u001b[1;33m)\u001b[0m\u001b[1;33m\u001b[0m\u001b[1;33m\u001b[0m\u001b[0m\n\u001b[0m\u001b[0;32m    322\u001b[0m             response['value'] = self._unwrap_value(\n\u001b[0;32m    323\u001b[0m                 response.get('value', None))\n",
      "\u001b[1;32mC:\\ProgramData\\Anaconda3\\lib\\site-packages\\selenium\\webdriver\\remote\\errorhandler.py\u001b[0m in \u001b[0;36mcheck_response\u001b[1;34m(self, response)\u001b[0m\n\u001b[0;32m    240\u001b[0m                 \u001b[0malert_text\u001b[0m \u001b[1;33m=\u001b[0m \u001b[0mvalue\u001b[0m\u001b[1;33m[\u001b[0m\u001b[1;34m'alert'\u001b[0m\u001b[1;33m]\u001b[0m\u001b[1;33m.\u001b[0m\u001b[0mget\u001b[0m\u001b[1;33m(\u001b[0m\u001b[1;34m'text'\u001b[0m\u001b[1;33m)\u001b[0m\u001b[1;33m\u001b[0m\u001b[1;33m\u001b[0m\u001b[0m\n\u001b[0;32m    241\u001b[0m             \u001b[1;32mraise\u001b[0m \u001b[0mexception_class\u001b[0m\u001b[1;33m(\u001b[0m\u001b[0mmessage\u001b[0m\u001b[1;33m,\u001b[0m \u001b[0mscreen\u001b[0m\u001b[1;33m,\u001b[0m \u001b[0mstacktrace\u001b[0m\u001b[1;33m,\u001b[0m \u001b[0malert_text\u001b[0m\u001b[1;33m)\u001b[0m\u001b[1;33m\u001b[0m\u001b[1;33m\u001b[0m\u001b[0m\n\u001b[1;32m--> 242\u001b[1;33m         \u001b[1;32mraise\u001b[0m \u001b[0mexception_class\u001b[0m\u001b[1;33m(\u001b[0m\u001b[0mmessage\u001b[0m\u001b[1;33m,\u001b[0m \u001b[0mscreen\u001b[0m\u001b[1;33m,\u001b[0m \u001b[0mstacktrace\u001b[0m\u001b[1;33m)\u001b[0m\u001b[1;33m\u001b[0m\u001b[1;33m\u001b[0m\u001b[0m\n\u001b[0m\u001b[0;32m    243\u001b[0m \u001b[1;33m\u001b[0m\u001b[0m\n\u001b[0;32m    244\u001b[0m     \u001b[1;32mdef\u001b[0m \u001b[0m_value_or_default\u001b[0m\u001b[1;33m(\u001b[0m\u001b[0mself\u001b[0m\u001b[1;33m,\u001b[0m \u001b[0mobj\u001b[0m\u001b[1;33m,\u001b[0m \u001b[0mkey\u001b[0m\u001b[1;33m,\u001b[0m \u001b[0mdefault\u001b[0m\u001b[1;33m)\u001b[0m\u001b[1;33m:\u001b[0m\u001b[1;33m\u001b[0m\u001b[1;33m\u001b[0m\u001b[0m\n",
      "\u001b[1;31mNoSuchWindowException\u001b[0m: Message: no such window: window was already closed\n  (Session info: chrome=92.0.4515.159)\n"
     ]
    }
   ],
   "metadata": {}
  },
  {
   "cell_type": "code",
   "execution_count": 25,
   "source": [
    "# switch focus to tab[1]\r\n",
    "tab_list = driver.window_handles\r\n",
    "driver.switch_to.window(tab_list[1])"
   ],
   "outputs": [],
   "metadata": {}
  },
  {
   "cell_type": "code",
   "execution_count": 22,
   "source": [
    "# Create a list from a single elemment\r\n",
    "end_of_results = driver.find_elements_by_xpath('//*[contains(text(),\"End of Results\")]')\r\n",
    "\r\n",
    "# print(End_of_Results)\r\n",
    "\r\n",
    "# Create a Conditional loop based on len(End_of_Results) - the lenght of the list\r\n",
    "while len(end_of_results) == 0:\r\n",
    "    driver.execute_script(\"window.scrollBy(0,3000)\")\r\n",
    "    time.sleep(1)\r\n",
    "    end_of_results = driver.find_elements_by_xpath('//*[contains(text(),\"End of Results\")]')\r\n",
    "\r\n",
    "    \r\n",
    "print(\"End of Results !!\")    \r\n",
    "    "
   ],
   "outputs": [
    {
     "output_type": "stream",
     "name": "stdout",
     "text": [
      "End of Results !!\n"
     ]
    }
   ],
   "metadata": {}
  },
  {
   "cell_type": "code",
   "execution_count": 23,
   "source": [
    "# Scrape videos links\r\n",
    "links = driver.find_elements_by_xpath('//span[@class=\"nc684nl6\"]/a')\r\n",
    "\r\n",
    "links_list = []\r\n",
    "for link in links:\r\n",
    "    links_list.append(link.get_attribute('href'))\r\n",
    " \r\n",
    "# titles_list = list(filter(None, titles_list))\r\n",
    "\r\n",
    "print(len(links_list))\r\n",
    "print(\" \")\r\n",
    "\r\n",
    "for link in links_list:\r\n",
    "    print(link)"
   ],
   "outputs": [
    {
     "output_type": "stream",
     "name": "stdout",
     "text": [
      "89\n",
      " \n",
      "https://www.facebook.com/groups/890873524983504/\n",
      "https://www.facebook.com/groups/1938036363165349/\n",
      "https://www.facebook.com/groups/1258390407870884/\n",
      "https://www.facebook.com/groups/438210247336820/\n",
      "https://www.facebook.com/groups/mhd.abouras/\n",
      "https://www.facebook.com/groups/292209324460570/\n",
      "https://www.facebook.com/groups/443961783048289/\n",
      "https://www.facebook.com/groups/rebhmnnet/\n",
      "https://www.facebook.com/groups/292011534328735/\n",
      "https://www.facebook.com/groups/1554220541336180/\n",
      "https://www.facebook.com/groups/255131838157695/\n",
      "https://www.facebook.com/groups/534121776928026/\n",
      "https://www.facebook.com/groups/537630110595856/\n",
      "https://www.facebook.com/groups/223084908890379/\n",
      "https://www.facebook.com/groups/4055666727861573/\n",
      "https://www.facebook.com/groups/165488060832476/\n",
      "https://www.facebook.com/groups/helalnet.net/\n",
      "https://www.facebook.com/groups/1086902131512670/\n",
      "https://www.facebook.com/groups/984861644934873/\n",
      "https://www.facebook.com/groups/862759290777679/\n",
      "https://www.facebook.com/groups/2990785051181225/\n",
      "https://www.facebook.com/groups/1228575557262382/\n",
      "https://www.facebook.com/groups/868203077058116/\n",
      "https://www.facebook.com/groups/1632602520252429/\n",
      "https://www.facebook.com/groups/makemoneyonline10/\n",
      "https://www.facebook.com/groups/340525794127847/\n",
      "https://www.facebook.com/groups/474876562700318/\n",
      "https://www.facebook.com/groups/ptconline/\n",
      "https://www.facebook.com/groups/229601401596075/\n",
      "https://www.facebook.com/groups/mustapha135137/\n",
      "https://www.facebook.com/groups/255550617987884/\n",
      "https://www.facebook.com/groups/224742269239888/\n",
      "https://www.facebook.com/groups/576236229677764/\n",
      "https://www.facebook.com/groups/947532722696999/\n",
      "https://www.facebook.com/groups/699696953981205/\n",
      "https://www.facebook.com/groups/2285225768203781/\n",
      "https://www.facebook.com/groups/488748898765690/\n",
      "https://www.facebook.com/groups/Net.Rib7/\n",
      "https://www.facebook.com/groups/fydtuk2/\n",
      "https://www.facebook.com/groups/166187383991259/\n",
      "https://www.facebook.com/groups/2859550674361704/\n",
      "https://www.facebook.com/groups/171641670137620/\n",
      "https://www.facebook.com/groups/AndroidElarab/\n",
      "https://www.facebook.com/groups/2362321757396298/\n",
      "https://www.facebook.com/groups/306143357845172/\n",
      "https://www.facebook.com/groups/108060005979180/\n",
      "https://www.facebook.com/groups/803395733608862/\n",
      "https://www.facebook.com/groups/121368759884288/\n",
      "https://www.facebook.com/groups/130097963670235/\n",
      "https://www.facebook.com/groups/725530968161121/\n",
      "https://www.facebook.com/groups/make.money.from.net/\n",
      "https://www.facebook.com/groups/MoroccanDropshippingsGroup/\n",
      "https://www.facebook.com/groups/410926498919273/\n",
      "https://www.facebook.com/groups/520055532450905/\n",
      "https://www.facebook.com/groups/1434668113493827/\n",
      "https://www.facebook.com/groups/getpaid.toclickptc/\n",
      "https://www.facebook.com/groups/478736892268585/\n",
      "https://www.facebook.com/groups/795943454354992/\n",
      "https://www.facebook.com/groups/1899933590120520/\n",
      "https://www.facebook.com/groups/rb7money/\n",
      "https://www.facebook.com/groups/119868674716094/\n",
      "https://www.facebook.com/groups/858948210786192/\n",
      "https://www.facebook.com/groups/1600747886806806/\n",
      "https://www.facebook.com/groups/143745732343042/\n",
      "https://www.facebook.com/groups/553641392710141/\n",
      "https://www.facebook.com/groups/1697234633912148/\n",
      "https://www.facebook.com/groups/164150457003907/\n",
      "https://www.facebook.com/groups/Rib7.mnnet/\n",
      "https://www.facebook.com/groups/119169204874970/\n",
      "https://www.facebook.com/groups/698787556912700/\n",
      "https://www.facebook.com/groups/488624161168842/\n",
      "https://www.facebook.com/groups/2389723477918999/\n",
      "https://www.facebook.com/groups/906783812711246/\n",
      "https://www.facebook.com/groups/120028914760029/\n",
      "https://www.facebook.com/groups/1811400235664861/\n",
      "https://www.facebook.com/groups/315009721892844/\n",
      "https://www.facebook.com/groups/221319145291832/\n",
      "https://www.facebook.com/groups/1612904445630702/\n",
      "https://www.facebook.com/groups/1889910927950504/\n",
      "https://www.facebook.com/groups/a3faahasd/\n",
      "https://www.facebook.com/groups/358657987484135/\n",
      "https://www.facebook.com/groups/449518751744350/\n",
      "https://www.facebook.com/groups/180961861939727/\n",
      "https://www.facebook.com/groups/158252410892545/\n",
      "https://www.facebook.com/groups/284249596264358/\n",
      "https://www.facebook.com/groups/731178627490455/\n",
      "https://www.facebook.com/groups/390000854386127/\n",
      "https://www.facebook.com/groups/emiratesjobs20121/\n",
      "https://www.facebook.com/groups/904331266395770/\n"
     ]
    }
   ],
   "metadata": {}
  },
  {
   "cell_type": "code",
   "execution_count": null,
   "source": [
    "for link in links_list:\r\n",
    "    driver.get(link)\r\n",
    "    time.sleep(7)\r\n",
    "    join_group = driver.find_element_by_xpath('//div[@class=\"rq0escxv l9j0dhe7 du4w35lb j83agx80 cbu4d94t pfnyh3mw d2edcug0 ri2l8tne ph5uu5jm b3onmgus e5nlhep0 ecm0bbzt gloz99to r516eku6 k83vx86k\"]')\r\n",
    "    join_group.click()"
   ],
   "outputs": [],
   "metadata": {}
  }
 ],
 "metadata": {
  "kernelspec": {
   "name": "python3",
   "display_name": "Python 3.8.8 64-bit ('base': conda)"
  },
  "language_info": {
   "codemirror_mode": {
    "name": "ipython",
    "version": 3
   },
   "file_extension": ".py",
   "mimetype": "text/x-python",
   "name": "python",
   "nbconvert_exporter": "python",
   "pygments_lexer": "ipython3",
   "version": "3.8.8"
  },
  "interpreter": {
   "hash": "b3ba2566441a7c06988d0923437866b63cedc61552a5af99d1f4fb67d367b25f"
  }
 },
 "nbformat": 4,
 "nbformat_minor": 5
}